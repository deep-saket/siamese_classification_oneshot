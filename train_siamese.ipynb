{
 "cells": [
  {
   "cell_type": "code",
   "execution_count": 1,
   "id": "732cc24b",
   "metadata": {
    "scrolled": true
   },
   "outputs": [],
   "source": [
    "import neptune.new as neptune\n",
    "\n",
    "import tensorflow as tf\n",
    "from pprint import pprint\n",
    "from train_eval import train_support, eval_support\n",
    "# import dataloaders\n",
    "# import dl_modules\n",
    "# import losses"
   ]
  },
  {
   "cell_type": "code",
   "execution_count": 2,
   "id": "a6afa645",
   "metadata": {},
   "outputs": [
    {
     "name": "stdout",
     "output_type": "stream",
     "text": [
      "Running on 1 replicas\n"
     ]
    }
   ],
   "source": [
    "from train import *\n",
    "from data import *\n",
    "from model import *"
   ]
  },
  {
   "cell_type": "markdown",
   "id": "ce386c69",
   "metadata": {},
   "source": [
    "# Initialize Neptune\n"
   ]
  },
  {
   "cell_type": "code",
   "execution_count": 14,
   "id": "a49229ec",
   "metadata": {},
   "outputs": [
    {
     "name": "stdout",
     "output_type": "stream",
     "text": [
      "https://app.neptune.ai/10xar-saket/siamese-object-identification/e/SIAM-1\n"
     ]
    },
    {
     "name": "stderr",
     "output_type": "stream",
     "text": [
      "Info (NVML): Driver Not Loaded. GPU usage metrics may not be reported. For more information, see https://docs.neptune.ai/you-should-know/what-can-you-log-and-display#hardware-consumption\n"
     ]
    },
    {
     "name": "stdout",
     "output_type": "stream",
     "text": [
      "Remember to stop your run once you’ve finished logging your metadata (https://docs.neptune.ai/api-reference/run#.stop). It will be stopped automatically only when the notebook kernel/interactive console is terminated.\n"
     ]
    }
   ],
   "source": [
    "run = neptune.init(\n",
    "    project=\"10xar-saket/siamese-object-identification\",\n",
    "    api_token=\"eyJhcGlfYWRkcmVzcyI6Imh0dHBzOi8vYXBwLm5lcHR1bmUuYWkiLCJhcGlfdXJsIjoiaHR0cHM6Ly9hcHAubmVwdHVuZS5haSIsImFwaV9rZXkiOiI5ODE2ZDk5ZC00ZTZkLTQ0MmUtYTI2Zi0yOTE3MmNkODNkNmQifQ==\",\n",
    ") "
   ]
  },
  {
   "cell_type": "markdown",
   "id": "84e28bcf",
   "metadata": {},
   "source": [
    "# hyperparameters\n"
   ]
  },
  {
   "cell_type": "code",
   "execution_count": 22,
   "id": "224cba23",
   "metadata": {},
   "outputs": [],
   "source": [
    "lr = 0.000001\n",
    "batch_size = 1\n",
    "epochs = 100\n",
    "save_dir = 'checlpoints/save'\n",
    "start_epoch = 0\n",
    "dataset_name = 'Feb2022-demo'\n",
    "loss_name = 'triplet'"
   ]
  },
  {
   "cell_type": "markdown",
   "id": "a986e663",
   "metadata": {},
   "source": [
    "# Load datasets\n"
   ]
  },
  {
   "cell_type": "code",
   "execution_count": 5,
   "id": "0982a9ec",
   "metadata": {},
   "outputs": [],
   "source": [
    "train_dataset_path = '/media/saket/Elements/datasets/feb2022demo/dataset/train'\n",
    "dev_dataset_path = '/media/saket/Elements/datasets/feb2022demo/dataset/dev'\n",
    "\n",
    "train_dataset = DataLoader(2, train_dataset_path ,visualize=True) # dataloaders.multi_frame_loader.VIDEODATA()\n",
    "dev_dataset = DataLoader(2, dev_dataset_path) # dataloaders.multi_frame_loader.VIDEODATA()"
   ]
  },
  {
   "cell_type": "markdown",
   "id": "96e4b7db",
   "metadata": {},
   "source": [
    "# Create model"
   ]
  },
  {
   "cell_type": "code",
   "execution_count": 15,
   "id": "47cf8295",
   "metadata": {},
   "outputs": [],
   "source": [
    "with strategy.scope():\n",
    "    siamese_model = SiameseModel()\n",
    "restore_model_path = ''\n",
    "model_name = 'vgg-embedding-siamese'"
   ]
  },
  {
   "cell_type": "markdown",
   "id": "0a392c65",
   "metadata": {},
   "source": [
    "# Define trainnin and testing steps\n"
   ]
  },
  {
   "cell_type": "code",
   "execution_count": 17,
   "id": "07f6ab9e",
   "metadata": {},
   "outputs": [],
   "source": [
    "def train_step(X, Y, model, compute_cost, optimizer):\n",
    "    '''\n",
    "    Train one minibatch\n",
    "    '''\n",
    "    with tf.GradientTape() as tape:\n",
    "        Y_pred = model(X)\n",
    "        cost = compute_cost(Y, Y_pred)\n",
    "    \n",
    "    gradient = tape.gradient(cost, model.trainable_variables)\n",
    "    optimizer.apply_gradients(zip(gradient, model.trainable_variables))\n",
    "\n",
    "    return cost, Y_pred"
   ]
  },
  {
   "cell_type": "code",
   "execution_count": 18,
   "id": "d675180a",
   "metadata": {},
   "outputs": [],
   "source": [
    "def test_step(X, Y, model, compute_cost):\n",
    "    '''\n",
    "    Infer one minibatch\n",
    "    '''\n",
    "    Y_pred = model(X)\n",
    "    cost = compute_cost(Y, Y_pred)\n",
    "\n",
    "    return cost, Y_pred"
   ]
  },
  {
   "cell_type": "markdown",
   "id": "87f0f10d",
   "metadata": {},
   "source": [
    "# Define / Create loss\n"
   ]
  },
  {
   "cell_type": "code",
   "execution_count": 24,
   "id": "37dcebee",
   "metadata": {},
   "outputs": [],
   "source": [
    "def compute_cost(Y, Y_pred, margin=0.5):\n",
    "    '''\n",
    "    '''\n",
    "    # The output of the network is a tuple containing the distances\n",
    "    # between the anchor and the positive example, and the anchor and\n",
    "    # the negative example.\n",
    "    def _contrastive_loss(y_true, y_pred):\n",
    "        return tfa.losses.contrastive_loss(y_true, y_pred)\n",
    "        \n",
    "    loss = tf.convert_to_tensor(0,dtype=tf.float32)\n",
    "    g = tf.constant(1.0, shape=[1], dtype=tf.float32)\n",
    "    h = tf.constant(0.0, shape=[1], dtype=tf.float32)\n",
    "    \n",
    "    ap_distance, an_distance = Y_pred\n",
    "    print(ap_distance, an_distance)\n",
    "    # loss_query_pos = tf.reduce_mean(_contrastive_loss(g, ap_distance))\n",
    "    # loss_query_neg = tf.reduce_mean(_contrastive_loss(h, an_distance))\n",
    "    loss = ap_distance - an_distance\n",
    "    \n",
    "    # Computing the Triplet Loss by subtracting both distances and\n",
    "    # making sure we don't get a negative value.\n",
    "    loss = tf.maximum(loss + margin, 0.0)\n",
    "    \n",
    "    return loss"
   ]
  },
  {
   "cell_type": "markdown",
   "id": "9543783e",
   "metadata": {},
   "source": [
    "# Define optimizer\n"
   ]
  },
  {
   "cell_type": "code",
   "execution_count": 25,
   "id": "c9d2b0b9",
   "metadata": {},
   "outputs": [
    {
     "name": "stdout",
     "output_type": "stream",
     "text": [
      "{'amsgrad': False,\n",
      " 'beta_1': 0.9,\n",
      " 'beta_2': 0.999,\n",
      " 'epsilon': 1e-07,\n",
      " 'name': 'Adam'}\n"
     ]
    }
   ],
   "source": [
    "optimizer_name = 'Adam'\n",
    "optimizer_arg = get_optimizer_arg(optimizer_name)\n",
    "pprint(optimizer_arg)"
   ]
  },
  {
   "cell_type": "code",
   "execution_count": 26,
   "id": "1b1132c0",
   "metadata": {},
   "outputs": [
    {
     "name": "stdout",
     "output_type": "stream",
     "text": [
      "GPUs : []\n",
      "Total number of training examples = 5\n",
      "Start epoch - 0 | End epoch - 100\n",
      "Number of minibatches in training set - 137\n",
      "Starting training...\n",
      "tf.Tensor([2.0348078e-05 2.9399609e-05], shape=(2,), dtype=float32) tf.Tensor([2.2770833e-05 9.8893477e-05], shape=(2,), dtype=float32)\n",
      "tf.Tensor([1.108139e-04 4.730082e-05], shape=(2,), dtype=float32) tf.Tensor([5.4445654e-06 7.1201983e-05], shape=(2,), dtype=float32)\n"
     ]
    },
    {
     "ename": "KeyboardInterrupt",
     "evalue": "",
     "output_type": "error",
     "traceback": [
      "\u001b[0;31m---------------------------------------------------------------------------\u001b[0m",
      "\u001b[0;31mKeyboardInterrupt\u001b[0m                         Traceback (most recent call last)",
      "\u001b[0;32m<ipython-input-26-6157d8e213a7>\u001b[0m in \u001b[0;36m<module>\u001b[0;34m\u001b[0m\n\u001b[1;32m      7\u001b[0m                              \u001b[0mdataset_name\u001b[0m \u001b[0;34m=\u001b[0m \u001b[0mdataset_name\u001b[0m\u001b[0;34m,\u001b[0m \u001b[0mloss_name\u001b[0m \u001b[0;34m=\u001b[0m \u001b[0mloss_name\u001b[0m\u001b[0;34m,\u001b[0m\u001b[0;34m\u001b[0m\u001b[0;34m\u001b[0m\u001b[0m\n\u001b[1;32m      8\u001b[0m                              \u001b[0mmodel_name\u001b[0m \u001b[0;34m=\u001b[0m \u001b[0mmodel_name\u001b[0m\u001b[0;34m,\u001b[0m \u001b[0mrun\u001b[0m \u001b[0;34m=\u001b[0m \u001b[0mrun\u001b[0m\u001b[0;34m,\u001b[0m\u001b[0;34m\u001b[0m\u001b[0;34m\u001b[0m\u001b[0m\n\u001b[0;32m----> 9\u001b[0;31m                              show_results=-1, save_image=False)\n\u001b[0m",
      "\u001b[0;32m/media/saket/92043048-cd87-4d4c-a516-022ae8564c01/Projects/ML-CV-MODEL-object_classification/train.py\u001b[0m in \u001b[0;36mtrain_siamese\u001b[0;34m(train_dataset, dev_dataset, lr, batch_size, epochs, model, train_step, test_step, compute_cost, optimizer_name, save_dir, checkpoint_path, start_epoch, eval_metrics, optimizer_arg, dataset_name, loss_name, model_name, run, show_results, save_image)\u001b[0m\n\u001b[1;32m    183\u001b[0m \u001b[0;34m\u001b[0m\u001b[0m\n\u001b[1;32m    184\u001b[0m             \u001b[0;31m## train the model for one iteration\u001b[0m\u001b[0;34m\u001b[0m\u001b[0;34m\u001b[0m\u001b[0;34m\u001b[0m\u001b[0m\n\u001b[0;32m--> 185\u001b[0;31m             \u001b[0mtemp_cost\u001b[0m\u001b[0;34m,\u001b[0m \u001b[0mY_pred\u001b[0m \u001b[0;34m=\u001b[0m \u001b[0mtrain_step\u001b[0m\u001b[0;34m(\u001b[0m\u001b[0mminibatch_X\u001b[0m\u001b[0;34m,\u001b[0m \u001b[0mminibatch_Y\u001b[0m\u001b[0;34m,\u001b[0m \u001b[0mmodel\u001b[0m\u001b[0;34m,\u001b[0m \u001b[0mcompute_cost\u001b[0m\u001b[0;34m,\u001b[0m \u001b[0moptimizer\u001b[0m\u001b[0;34m)\u001b[0m\u001b[0;34m\u001b[0m\u001b[0;34m\u001b[0m\u001b[0m\n\u001b[0m\u001b[1;32m    186\u001b[0m             \u001b[0mminibatch_cost\u001b[0m \u001b[0;34m+=\u001b[0m \u001b[0mtemp_cost\u001b[0m\u001b[0;34m\u001b[0m\u001b[0;34m\u001b[0m\u001b[0m\n\u001b[1;32m    187\u001b[0m \u001b[0;34m\u001b[0m\u001b[0m\n",
      "\u001b[0;32m<ipython-input-17-e9e430d11497>\u001b[0m in \u001b[0;36mtrain_step\u001b[0;34m(X, Y, model, compute_cost, optimizer)\u001b[0m\n\u001b[1;32m      7\u001b[0m         \u001b[0mcost\u001b[0m \u001b[0;34m=\u001b[0m \u001b[0mcompute_cost\u001b[0m\u001b[0;34m(\u001b[0m\u001b[0mY\u001b[0m\u001b[0;34m,\u001b[0m \u001b[0mY_pred\u001b[0m\u001b[0;34m)\u001b[0m\u001b[0;34m\u001b[0m\u001b[0;34m\u001b[0m\u001b[0m\n\u001b[1;32m      8\u001b[0m \u001b[0;34m\u001b[0m\u001b[0m\n\u001b[0;32m----> 9\u001b[0;31m     \u001b[0mgradient\u001b[0m \u001b[0;34m=\u001b[0m \u001b[0mtape\u001b[0m\u001b[0;34m.\u001b[0m\u001b[0mgradient\u001b[0m\u001b[0;34m(\u001b[0m\u001b[0mcost\u001b[0m\u001b[0;34m,\u001b[0m \u001b[0mmodel\u001b[0m\u001b[0;34m.\u001b[0m\u001b[0mtrainable_variables\u001b[0m\u001b[0;34m)\u001b[0m\u001b[0;34m\u001b[0m\u001b[0;34m\u001b[0m\u001b[0m\n\u001b[0m\u001b[1;32m     10\u001b[0m     \u001b[0moptimizer\u001b[0m\u001b[0;34m.\u001b[0m\u001b[0mapply_gradients\u001b[0m\u001b[0;34m(\u001b[0m\u001b[0mzip\u001b[0m\u001b[0;34m(\u001b[0m\u001b[0mgradient\u001b[0m\u001b[0;34m,\u001b[0m \u001b[0mmodel\u001b[0m\u001b[0;34m.\u001b[0m\u001b[0mtrainable_variables\u001b[0m\u001b[0;34m)\u001b[0m\u001b[0;34m)\u001b[0m\u001b[0;34m\u001b[0m\u001b[0;34m\u001b[0m\u001b[0m\n\u001b[1;32m     11\u001b[0m \u001b[0;34m\u001b[0m\u001b[0m\n",
      "\u001b[0;32m/media/saket/LENOVO/ana3/envs/2nd_base/lib/python3.7/site-packages/tensorflow/python/eager/backprop.py\u001b[0m in \u001b[0;36mgradient\u001b[0;34m(self, target, sources, output_gradients, unconnected_gradients)\u001b[0m\n\u001b[1;32m   1088\u001b[0m         \u001b[0moutput_gradients\u001b[0m\u001b[0;34m=\u001b[0m\u001b[0moutput_gradients\u001b[0m\u001b[0;34m,\u001b[0m\u001b[0;34m\u001b[0m\u001b[0;34m\u001b[0m\u001b[0m\n\u001b[1;32m   1089\u001b[0m         \u001b[0msources_raw\u001b[0m\u001b[0;34m=\u001b[0m\u001b[0mflat_sources_raw\u001b[0m\u001b[0;34m,\u001b[0m\u001b[0;34m\u001b[0m\u001b[0;34m\u001b[0m\u001b[0m\n\u001b[0;32m-> 1090\u001b[0;31m         unconnected_gradients=unconnected_gradients)\n\u001b[0m\u001b[1;32m   1091\u001b[0m \u001b[0;34m\u001b[0m\u001b[0m\n\u001b[1;32m   1092\u001b[0m     \u001b[0;32mif\u001b[0m \u001b[0;32mnot\u001b[0m \u001b[0mself\u001b[0m\u001b[0;34m.\u001b[0m\u001b[0m_persistent\u001b[0m\u001b[0;34m:\u001b[0m\u001b[0;34m\u001b[0m\u001b[0;34m\u001b[0m\u001b[0m\n",
      "\u001b[0;32m/media/saket/LENOVO/ana3/envs/2nd_base/lib/python3.7/site-packages/tensorflow/python/eager/imperative_grad.py\u001b[0m in \u001b[0;36mimperative_grad\u001b[0;34m(tape, target, sources, output_gradients, sources_raw, unconnected_gradients)\u001b[0m\n\u001b[1;32m     75\u001b[0m       \u001b[0moutput_gradients\u001b[0m\u001b[0;34m,\u001b[0m\u001b[0;34m\u001b[0m\u001b[0;34m\u001b[0m\u001b[0m\n\u001b[1;32m     76\u001b[0m       \u001b[0msources_raw\u001b[0m\u001b[0;34m,\u001b[0m\u001b[0;34m\u001b[0m\u001b[0;34m\u001b[0m\u001b[0m\n\u001b[0;32m---> 77\u001b[0;31m       compat.as_str(unconnected_gradients.value))\n\u001b[0m",
      "\u001b[0;32m/media/saket/LENOVO/ana3/envs/2nd_base/lib/python3.7/site-packages/tensorflow/python/eager/backprop.py\u001b[0m in \u001b[0;36m_gradient_function\u001b[0;34m(op_name, attr_tuple, num_inputs, inputs, outputs, out_grads, skip_input_indices, forward_pass_name_scope)\u001b[0m\n\u001b[1;32m    157\u001b[0m       \u001b[0mgradient_name_scope\u001b[0m \u001b[0;34m+=\u001b[0m \u001b[0mforward_pass_name_scope\u001b[0m \u001b[0;34m+\u001b[0m \u001b[0;34m\"/\"\u001b[0m\u001b[0;34m\u001b[0m\u001b[0;34m\u001b[0m\u001b[0m\n\u001b[1;32m    158\u001b[0m     \u001b[0;32mwith\u001b[0m \u001b[0mops\u001b[0m\u001b[0;34m.\u001b[0m\u001b[0mname_scope\u001b[0m\u001b[0;34m(\u001b[0m\u001b[0mgradient_name_scope\u001b[0m\u001b[0;34m)\u001b[0m\u001b[0;34m:\u001b[0m\u001b[0;34m\u001b[0m\u001b[0;34m\u001b[0m\u001b[0m\n\u001b[0;32m--> 159\u001b[0;31m       \u001b[0;32mreturn\u001b[0m \u001b[0mgrad_fn\u001b[0m\u001b[0;34m(\u001b[0m\u001b[0mmock_op\u001b[0m\u001b[0;34m,\u001b[0m \u001b[0;34m*\u001b[0m\u001b[0mout_grads\u001b[0m\u001b[0;34m)\u001b[0m\u001b[0;34m\u001b[0m\u001b[0;34m\u001b[0m\u001b[0m\n\u001b[0m\u001b[1;32m    160\u001b[0m   \u001b[0;32melse\u001b[0m\u001b[0;34m:\u001b[0m\u001b[0;34m\u001b[0m\u001b[0;34m\u001b[0m\u001b[0m\n\u001b[1;32m    161\u001b[0m     \u001b[0;32mreturn\u001b[0m \u001b[0mgrad_fn\u001b[0m\u001b[0;34m(\u001b[0m\u001b[0mmock_op\u001b[0m\u001b[0;34m,\u001b[0m \u001b[0;34m*\u001b[0m\u001b[0mout_grads\u001b[0m\u001b[0;34m)\u001b[0m\u001b[0;34m\u001b[0m\u001b[0;34m\u001b[0m\u001b[0m\n",
      "\u001b[0;32m/media/saket/LENOVO/ana3/envs/2nd_base/lib/python3.7/site-packages/tensorflow/python/ops/nn_grad.py\u001b[0m in \u001b[0;36m_Conv2DGrad\u001b[0;34m(op, grad)\u001b[0m\n\u001b[1;32m    588\u001b[0m           \u001b[0mexplicit_paddings\u001b[0m\u001b[0;34m=\u001b[0m\u001b[0mexplicit_paddings\u001b[0m\u001b[0;34m,\u001b[0m\u001b[0;34m\u001b[0m\u001b[0;34m\u001b[0m\u001b[0m\n\u001b[1;32m    589\u001b[0m           \u001b[0muse_cudnn_on_gpu\u001b[0m\u001b[0;34m=\u001b[0m\u001b[0muse_cudnn_on_gpu\u001b[0m\u001b[0;34m,\u001b[0m\u001b[0;34m\u001b[0m\u001b[0;34m\u001b[0m\u001b[0m\n\u001b[0;32m--> 590\u001b[0;31m           data_format=data_format),\n\u001b[0m\u001b[1;32m    591\u001b[0m       gen_nn_ops.conv2d_backprop_filter(\n\u001b[1;32m    592\u001b[0m           \u001b[0mop\u001b[0m\u001b[0;34m.\u001b[0m\u001b[0minputs\u001b[0m\u001b[0;34m[\u001b[0m\u001b[0;36m0\u001b[0m\u001b[0;34m]\u001b[0m\u001b[0;34m,\u001b[0m\u001b[0;34m\u001b[0m\u001b[0;34m\u001b[0m\u001b[0m\n",
      "\u001b[0;32m/media/saket/LENOVO/ana3/envs/2nd_base/lib/python3.7/site-packages/tensorflow/python/ops/gen_nn_ops.py\u001b[0m in \u001b[0;36mconv2d_backprop_input\u001b[0;34m(input_sizes, filter, out_backprop, strides, padding, use_cudnn_on_gpu, explicit_paddings, data_format, dilations, name)\u001b[0m\n\u001b[1;32m   1242\u001b[0m         \u001b[0;34m\"strides\"\u001b[0m\u001b[0;34m,\u001b[0m \u001b[0mstrides\u001b[0m\u001b[0;34m,\u001b[0m \u001b[0;34m\"use_cudnn_on_gpu\"\u001b[0m\u001b[0;34m,\u001b[0m \u001b[0muse_cudnn_on_gpu\u001b[0m\u001b[0;34m,\u001b[0m \u001b[0;34m\"padding\"\u001b[0m\u001b[0;34m,\u001b[0m\u001b[0;34m\u001b[0m\u001b[0;34m\u001b[0m\u001b[0m\n\u001b[1;32m   1243\u001b[0m         \u001b[0mpadding\u001b[0m\u001b[0;34m,\u001b[0m \u001b[0;34m\"explicit_paddings\"\u001b[0m\u001b[0;34m,\u001b[0m \u001b[0mexplicit_paddings\u001b[0m\u001b[0;34m,\u001b[0m \u001b[0;34m\"data_format\"\u001b[0m\u001b[0;34m,\u001b[0m\u001b[0;34m\u001b[0m\u001b[0;34m\u001b[0m\u001b[0m\n\u001b[0;32m-> 1244\u001b[0;31m         data_format, \"dilations\", dilations)\n\u001b[0m\u001b[1;32m   1245\u001b[0m       \u001b[0;32mreturn\u001b[0m \u001b[0m_result\u001b[0m\u001b[0;34m\u001b[0m\u001b[0;34m\u001b[0m\u001b[0m\n\u001b[1;32m   1246\u001b[0m     \u001b[0;32mexcept\u001b[0m \u001b[0m_core\u001b[0m\u001b[0;34m.\u001b[0m\u001b[0m_NotOkStatusException\u001b[0m \u001b[0;32mas\u001b[0m \u001b[0me\u001b[0m\u001b[0;34m:\u001b[0m\u001b[0;34m\u001b[0m\u001b[0;34m\u001b[0m\u001b[0m\n",
      "\u001b[0;31mKeyboardInterrupt\u001b[0m: "
     ]
    }
   ],
   "source": [
    "train_siamese(train_dataset, dev_dataset, lr, batch_size, epochs, siamese_model, \n",
    "                             train_step, test_step, compute_cost, \n",
    "                             optimizer_name, save_dir = save_dir, \n",
    "                             # checkpoint_path = restore_model_path, \n",
    "                             start_epoch = start_epoch, # eval_metrics = eval_metrics, \n",
    "                             optimizer_arg = optimizer_arg,\n",
    "                             dataset_name = dataset_name, loss_name = loss_name, \n",
    "                             model_name = model_name, run = run, \n",
    "                             show_results=-1, save_image=False)\n"
   ]
  },
  {
   "cell_type": "code",
   "execution_count": null,
   "id": "38835b2b",
   "metadata": {},
   "outputs": [],
   "source": [
    "siamese_model.trainable_variables"
   ]
  },
  {
   "cell_type": "code",
   "execution_count": null,
   "id": "2fc32bdd",
   "metadata": {},
   "outputs": [],
   "source": []
  }
 ],
 "metadata": {
  "kernelspec": {
   "display_name": "Python 3",
   "language": "python",
   "name": "python3"
  },
  "language_info": {
   "codemirror_mode": {
    "name": "ipython",
    "version": 3
   },
   "file_extension": ".py",
   "mimetype": "text/x-python",
   "name": "python",
   "nbconvert_exporter": "python",
   "pygments_lexer": "ipython3",
   "version": "3.7.10"
  }
 },
 "nbformat": 4,
 "nbformat_minor": 5
}
